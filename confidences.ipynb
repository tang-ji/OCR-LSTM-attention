{
 "cells": [
  {
   "cell_type": "code",
   "execution_count": null,
   "metadata": {
    "collapsed": true
   },
   "outputs": [],
   "source": [
    "def edit_distance(s1, s2):\n",
    "    m=len(s1)+1\n",
    "    n=len(s2)+1\n",
    "\n",
    "    tbl = {}\n",
    "    for i in range(m): tbl[i,0]=i\n",
    "    for j in range(n): tbl[0,j]=j\n",
    "    for i in range(1, m):\n",
    "        for j in range(1, n):\n",
    "            cost = 0 if s1[i-1] == s2[j-1] else 1\n",
    "            tbl[i,j] = min(tbl[i, j-1]+1, tbl[i-1, j]+1, tbl[i-1, j-1]+cost)\n",
    "\n",
    "    return tbl[i,j]\n",
    "\n",
    "f = open()\n",
    "lines = f.readlines()\n",
    "confidence={}\n",
    "confidence[0] = []\n",
    "confidence[1] = []\n",
    "confidence[2] = []\n",
    "confidence[3] = []\n",
    "for line in lines:\n",
    "    words = line.split()\n",
    "    label = words[0].split(\".\")[0].split(\"_\")\n",
    "    label = label[-1]\n",
    "    label_predict = words[1]\n",
    "    confid = float(words[2])\n",
    "    dist = edit_distance(label,label_predict)\n",
    "    if confid >= :\n",
    "        confidence[0].append(confid)\n",
    "    else if dist ==1:\n",
    "        confidence[1].append(confid)\n",
    "    else if dist ==2:\n",
    "        confidence[2].append(confid)\n",
    "    else:\n",
    "        confidence[3].append(confid)\n",
    "\n"
   ]
  }
 ],
 "metadata": {
  "kernelspec": {
   "display_name": "Python 3",
   "language": "python",
   "name": "python3"
  },
  "language_info": {
   "codemirror_mode": {
    "name": "ipython",
    "version": 3
   },
   "file_extension": ".py",
   "mimetype": "text/x-python",
   "name": "python",
   "nbconvert_exporter": "python",
   "pygments_lexer": "ipython3",
   "version": "3.6.1"
  }
 },
 "nbformat": 4,
 "nbformat_minor": 2
}
